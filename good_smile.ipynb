{
 "cells": [
  {
   "cell_type": "code",
   "execution_count": 78,
   "metadata": {},
   "outputs": [],
   "source": [
    "from PIL import Image\n",
    "import os,  glob\n",
    "import numpy as np\n",
    "import random, math"
   ]
  },
  {
   "cell_type": "code",
   "execution_count": 79,
   "metadata": {},
   "outputs": [],
   "source": [
    "#画像が保存されているデータセットフォルダ\n",
    "root_dir = \"/Users/arimachishun/work/star_form/datasets\"\n",
    "\n",
    "#分類したいカテゴリ\n",
    "categories = [\"笑顔\",\"真顔\",\"試合時\",\"オフショット\"]\n",
    "\n",
    "#画像データ用配列\n",
    "X = []\n",
    "#ラベルデータ用配列\n",
    "Y = []\n"
   ]
  },
  {
   "cell_type": "code",
   "execution_count": 80,
   "metadata": {},
   "outputs": [],
   "source": [
    "\n",
    "def make_sample(files):\n",
    "    global X, Y\n",
    "    X = []\n",
    "    Y = []\n",
    "    for cat, fname in files:\n",
    "        add_sample(cat, fname)\n",
    "    return np.array(X), np.array(Y)\n",
    "\n",
    "\n",
    "def add_sample(cat, fname):\n",
    "    img = Image.open(fname)\n",
    "    img = img.convert(\"RGB\")\n",
    "    img = img.resize((150,150))\n",
    "    data = np.asarray(img)\n",
    "    X.append(data)\n",
    "    Y.append(cat)\n",
    "\n",
    "    \n",
    "allfiles = []\n",
    "\n",
    "for idx, cat in enumerate(categories):\n",
    "    image_dir = root_dir + \"/\" + cat\n",
    "    files = glob.glob(image_dir + \"/*.jpg\")\n",
    "    for f in files:\n",
    "        allfiles.append((idx, f))\n",
    "        \n",
    "        \n",
    "random.shuffle(allfiles)\n",
    "th = math.floor(len(allfiles)*0.8)\n",
    "train = allfiles[0:th]\n",
    "test = allfiles[th:]\n",
    "X_train,Y_train = make_sample(train)\n",
    "X_test,Y_test = make_sample(test)\n",
    "xy = (X_train,X_test,Y_train,Y_test)\n",
    "#データを保存する\n",
    "np.save(\"/Users/arimachishun/work/star_form/glp_data.npy\",xy)"
   ]
  },
  {
   "cell_type": "code",
   "execution_count": 81,
   "metadata": {},
   "outputs": [
    {
     "name": "stdout",
     "output_type": "stream",
     "text": [
      "_________________________________________________________________\n",
      "Layer (type)                 Output Shape              Param #   \n",
      "=================================================================\n",
      "conv2d_25 (Conv2D)           (None, 148, 148, 32)      896       \n",
      "_________________________________________________________________\n",
      "max_pooling2d_25 (MaxPooling (None, 74, 74, 32)        0         \n",
      "_________________________________________________________________\n",
      "conv2d_26 (Conv2D)           (None, 72, 72, 64)        18496     \n",
      "_________________________________________________________________\n",
      "max_pooling2d_26 (MaxPooling (None, 36, 36, 64)        0         \n",
      "_________________________________________________________________\n",
      "conv2d_27 (Conv2D)           (None, 34, 34, 128)       73856     \n",
      "_________________________________________________________________\n",
      "max_pooling2d_27 (MaxPooling (None, 17, 17, 128)       0         \n",
      "_________________________________________________________________\n",
      "conv2d_28 (Conv2D)           (None, 15, 15, 128)       147584    \n",
      "_________________________________________________________________\n",
      "max_pooling2d_28 (MaxPooling (None, 7, 7, 128)         0         \n",
      "_________________________________________________________________\n",
      "flatten_7 (Flatten)          (None, 6272)              0         \n",
      "_________________________________________________________________\n",
      "dense_11 (Dense)             (None, 512)               3211776   \n",
      "_________________________________________________________________\n",
      "dense_12 (Dense)             (None, 4)                 2052      \n",
      "=================================================================\n",
      "Total params: 3,454,660\n",
      "Trainable params: 3,454,660\n",
      "Non-trainable params: 0\n",
      "_________________________________________________________________\n"
     ]
    }
   ],
   "source": [
    "from keras import layers, models\n",
    "\n",
    "model = models.Sequential()\n",
    "model.add(layers.Conv2D(32,(3,3),activation='relu',input_shape=(150,150,3)))\n",
    "model.add(layers.MaxPooling2D((2,2)))\n",
    "model.add(layers.Conv2D(64,(3,3),activation='relu'))\n",
    "model.add(layers.MaxPooling2D((2,2)))\n",
    "model.add(layers.Conv2D(128,(3,3),activation='relu'))\n",
    "model.add(layers.MaxPooling2D((2,2)))\n",
    "model.add(layers.Conv2D(128,(3,3),activation='relu'))\n",
    "model.add(layers.MaxPooling2D((2,2)))\n",
    "model.add(layers.Flatten())\n",
    "model.add(layers.Dense(512,activation = \"relu\"))\n",
    "model.add(layers.Dense(4,activation = \"sigmoid\"))\n",
    "\n",
    "model.summary()"
   ]
  },
  {
   "cell_type": "code",
   "execution_count": 82,
   "metadata": {},
   "outputs": [],
   "source": [
    "from keras import optimizers\n",
    "\n",
    "model.compile(loss=\"binary_crossentropy\",optimizer=optimizers.RMSprop(lr=1e-4),\n",
    "              metrics=[\"acc\"])"
   ]
  },
  {
   "cell_type": "code",
   "execution_count": 83,
   "metadata": {},
   "outputs": [],
   "source": [
    "from keras.utils import np_utils\n",
    "import numpy as np\n",
    "categories = [\"笑顔\",\"真顔\",\"試合時\",\"オフショット\"]\n",
    "nb_classes=len(categories)\n",
    "X_train = X_train.astype(\"float\")/255\n",
    "X_test = X_test.astype(\"float\")/255\n",
    "\n",
    "Y_train = np_utils.to_categorical(Y_train,nb_classes)\n",
    "Y_test = np_utils.to_categorical(Y_test,nb_classes)"
   ]
  },
  {
   "cell_type": "code",
   "execution_count": 84,
   "metadata": {},
   "outputs": [
    {
     "name": "stdout",
     "output_type": "stream",
     "text": [
      "Train on 160 samples, validate on 40 samples\n",
      "Epoch 1/10\n",
      "160/160 [==============================] - 9s 55ms/step - loss: 0.5767 - acc: 0.7391 - val_loss: 0.5652 - val_acc: 0.7500\n",
      "Epoch 2/10\n",
      "160/160 [==============================] - 8s 48ms/step - loss: 0.5371 - acc: 0.7500 - val_loss: 0.5160 - val_acc: 0.7500\n",
      "Epoch 3/10\n",
      "160/160 [==============================] - 8s 49ms/step - loss: 0.5008 - acc: 0.7578 - val_loss: 0.4929 - val_acc: 0.7687\n",
      "Epoch 4/10\n",
      "160/160 [==============================] - 8s 51ms/step - loss: 0.4426 - acc: 0.7891 - val_loss: 0.4638 - val_acc: 0.7688\n",
      "Epoch 5/10\n",
      "160/160 [==============================] - 8s 50ms/step - loss: 0.3925 - acc: 0.8250 - val_loss: 0.4582 - val_acc: 0.7937\n",
      "Epoch 6/10\n",
      "160/160 [==============================] - 8s 49ms/step - loss: 0.3555 - acc: 0.8656 - val_loss: 0.4559 - val_acc: 0.8187\n",
      "Epoch 7/10\n",
      "160/160 [==============================] - 8s 48ms/step - loss: 0.3188 - acc: 0.8797 - val_loss: 0.4480 - val_acc: 0.8063\n",
      "Epoch 8/10\n",
      "160/160 [==============================] - 8s 49ms/step - loss: 0.2854 - acc: 0.8828 - val_loss: 0.5837 - val_acc: 0.7812\n",
      "Epoch 9/10\n",
      "160/160 [==============================] - 8s 47ms/step - loss: 0.2615 - acc: 0.8938 - val_loss: 0.5081 - val_acc: 0.7938\n",
      "Epoch 10/10\n",
      "160/160 [==============================] - 8s 49ms/step - loss: 0.2301 - acc: 0.9078 - val_loss: 0.4420 - val_acc: 0.8062\n"
     ]
    }
   ],
   "source": [
    "model = model.fit(X_train,\n",
    "                 Y_train,\n",
    "                 epochs=10,\n",
    "                 batch_size=6,\n",
    "                 validation_data=(X_test,Y_test))"
   ]
  },
  {
   "cell_type": "code",
   "execution_count": 85,
   "metadata": {},
   "outputs": [
    {
     "data": {
      "image/png": "[encoded data removed]",
      "text/plain": [
       "<Figure size 432x288 with 1 Axes>"
      ]
     },
     "metadata": {},
     "output_type": "display_data"
    },
    {
     "data": {
      "image/png": "[encoded data removed]",
      "text/plain": [
       "<Figure size 432x288 with 1 Axes>"
      ]
     },
     "metadata": {},
     "output_type": "display_data"
    }
   ],
   "source": [
    "import matplotlib.pyplot as plt\n",
    "acc = model.history['acc']\n",
    "val_acc=model.history['val_acc']\n",
    "loss = model.history['loss']\n",
    "val_loss = model.history['val_loss']\n",
    "\n",
    "epochs = range(len(acc))\n",
    "\n",
    "plt.plot(epochs,acc,'bo',label='Training acc')\n",
    "plt.plot(epochs,val_acc,'b',label='Validation acc')\n",
    "plt.title('Training and validation accuracy')\n",
    "plt.legend()\n",
    "plt.savefig('精度を示すグラフのファイル名')\n",
    "\n",
    "plt.figure()\n",
    "\n",
    "plt.plot(epochs,loss,'bo',label='Training loss')\n",
    "plt.plot(epochs,val_loss,'b',label='validation loss')\n",
    "plt.title('Training and validation loss' )\n",
    "plt.legend()\n",
    "plt.savefig('損失値を示すグラフのファイル名')"
   ]
  },
  {
   "cell_type": "code",
   "execution_count": 86,
   "metadata": {},
   "outputs": [],
   "source": [
    "json_string = model.model.to_json()\n",
    "open('/Users/arimachishun/work/star_form/smile_predict.json', 'w').write(json_string)\n",
    "\n",
    "#重みの保存\n",
    "\n",
    "hdf5_file = \"/Users/arimachishun/work/star_form/smile_predict.hdf5\"\n",
    "model.model.save_weights(hdf5_file)"
   ]
  },
  {
   "cell_type": "code",
   "execution_count": 87,
   "metadata": {},
   "outputs": [],
   "source": [
    "from PIL import Image\n",
    "import os, glob\n",
    "import numpy as np\n",
    "import random, math\n",
    "\n",
    "# 画像が保存されているディレクトリのパス\n",
    "root_dir = \"/Users/arimachishun/work/star_form/datasets\"\n",
    "# 画像が保存されているフォルダ名\n",
    "categories = [\"笑顔\",\"真顔\",\"試合時\",\"オフショット\"]\n",
    "\n",
    "X = [] # 画像データ\n",
    "Y = [] # ラベルデータ\n",
    "\n",
    "allfiles = []\n",
    "for idx, cat in enumerate(categories):\n",
    "    image_dir = root_dir + \"/\" + cat\n",
    "    files = glob.glob(image_dir + \"/*.jpg\")\n",
    "    for f in files:\n",
    "        allfiles.append((idx, f))\n",
    "\n",
    "for cat, fname in allfiles:\n",
    "    img = Image.open(fname)\n",
    "    img = img.convert(\"RGB\")\n",
    "    img = img.resize((150, 150))\n",
    "    data = np.asarray(img)\n",
    "    X.append(data)\n",
    "    Y.append(cat)\n",
    "\n",
    "x = np.array(X)\n",
    "y = np.array(Y)\n",
    "\n",
    "np.save(\"/Users/arimachishun/work/star_form/smile_data_test_X_150.npy\", x)\n",
    "np.save(\"/Users/arimachishun/work/star_form/smile_data_test_Y_150.npy\", y)"
   ]
  },
  {
   "cell_type": "code",
   "execution_count": 88,
   "metadata": {},
   "outputs": [
    {
     "name": "stdout",
     "output_type": "stream",
     "text": [
      "200/200 [==============================] - 3s 15ms/step\n",
      "loss= 1.514112524986267\n",
      "accuracy 0.9025\n"
     ]
    }
   ],
   "source": [
    "test_X = np.load(\"smile_data_test_X_150.npy\")\n",
    "test_Y = np.load(\"smile_data_test_Y_150.npy\")\n",
    "\n",
    "from keras.utils import np_utils\n",
    "test_Y = np_utils.to_categorical(test_Y,4)\n",
    "\n",
    "score = model.model.evaluate(x=test_X,y=test_Y)\n",
    "\n",
    "print('loss=',score[0])\n",
    "print('accuracy',score[1])"
   ]
  },
  {
   "cell_type": "code",
   "execution_count": 97,
   "metadata": {},
   "outputs": [
    {
     "name": "stdout",
     "output_type": "stream",
     "text": [
      "/Users/arimachishun/work/star_form/datasets/オフショット/写真 2016-12-27 21 30 12.jpg\n",
      "あなたが選んでいるのは「試合時」の写真ではありませんか？\n"
     ]
    }
   ],
   "source": [
    "from keras import models\n",
    "from keras.models import model_from_json\n",
    "from keras.preprocessing import image\n",
    "import numpy as np\n",
    "\n",
    "#保存したモデルの読み込み\n",
    "model = model_from_json(open('/Users/arimachishun/work/star_form/smile_predict.json').read())\n",
    "#保存した重みの読み込み\n",
    "model.load_weights('/Users/arimachishun/work/star_form/smile_predict.hdf5')\n",
    "\n",
    "categories = [\"笑顔\",\"真顔\",\"試合時\",\"オフショット\"]\n",
    "\n",
    "#画像を読み込む\n",
    "img_path = str(input())\n",
    "img = image.load_img(img_path,target_size=(150, 150, 3))\n",
    "x = image.img_to_array(img)\n",
    "x = np.expand_dims(x, axis=0)\n",
    "\n",
    "#予測\n",
    "features = model.predict(x)\n",
    "\n",
    "#予測結果によって処理を分ける\n",
    "if features[0,0] == 1:\n",
    "    print (\"いい笑顔ですね\")\n",
    "\n",
    "elif features[0,1] == 1:\n",
    "    print (\"真剣な眼差しです\")\n",
    "\n",
    "else:\n",
    "    for i in range(0,3):\n",
    "          if features[0,i] == 1:\n",
    "              cat = categories[i]\n",
    "    message = \"あなたが選んでいるのは「\" + cat + \"」の写真ではありませんか？\"\n",
    "    print(message)"
   ]
  },
  {
   "cell_type": "code",
   "execution_count": null,
   "metadata": {},
   "outputs": [],
   "source": []
  },
  {
   "cell_type": "code",
   "execution_count": null,
   "metadata": {},
   "outputs": [],
   "source": []
  }
 ],
 "metadata": {
  "kernelspec": {
   "display_name": "Python 3",
   "language": "python",
   "name": "python3"
  },
  "language_info": {
   "codemirror_mode": {
    "name": "ipython",
    "version": 3
   },
   "file_extension": ".py",
   "mimetype": "text/x-python",
   "name": "python",
   "nbconvert_exporter": "python",
   "pygments_lexer": "ipython3",
   "version": "3.6.5"
  }
 },
 "nbformat": 4,
 "nbformat_minor": 2
}
